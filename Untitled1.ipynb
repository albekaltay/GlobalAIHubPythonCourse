{
  "nbformat": 4,
  "nbformat_minor": 0,
  "metadata": {
    "colab": {
      "name": "Untitled1.ipynb",
      "provenance": [],
      "authorship_tag": "ABX9TyMDeSr+0sRpYrf/uR0xJMLD",
      "include_colab_link": true
    },
    "kernelspec": {
      "name": "python3",
      "display_name": "Python 3"
    }
  },
  "cells": [
    {
      "cell_type": "markdown",
      "metadata": {
        "id": "view-in-github",
        "colab_type": "text"
      },
      "source": [
        "<a href=\"https://colab.research.google.com/github/albekaltay/GlobalAIHubPythonCourse/blob/main/Untitled1.ipynb\" target=\"_parent\"><img src=\"https://colab.research.google.com/assets/colab-badge.svg\" alt=\"Open In Colab\"/></a>"
      ]
    },
    {
      "cell_type": "code",
      "metadata": {
        "colab": {
          "base_uri": "https://localhost:8080/"
        },
        "id": "EL2dpmLQMZ5S",
        "outputId": "4245265a-bd9b-4070-9119-a1add0dc5aed"
      },
      "source": [
        "list_one = [1,3,5,7,9]\r\n",
        "list_two = [0,2,4,6,8]\r\n",
        "list_merge = list_one + list_two\r\n",
        "\r\n",
        "new_list  =  [i * 2 for i in list_merge]\r\n",
        "\r\n",
        "for a in new_list:\r\n",
        "    print(f\"number: {a} - type: {type(a)}\")"
      ],
      "execution_count": null,
      "outputs": [
        {
          "output_type": "stream",
          "text": [
            "number: 2 - type: <class 'int'>\n",
            "number: 6 - type: <class 'int'>\n",
            "number: 10 - type: <class 'int'>\n",
            "number: 14 - type: <class 'int'>\n",
            "number: 18 - type: <class 'int'>\n",
            "number: 0 - type: <class 'int'>\n",
            "number: 4 - type: <class 'int'>\n",
            "number: 8 - type: <class 'int'>\n",
            "number: 12 - type: <class 'int'>\n",
            "number: 16 - type: <class 'int'>\n"
          ],
          "name": "stdout"
        }
      ]
    }
  ]
}