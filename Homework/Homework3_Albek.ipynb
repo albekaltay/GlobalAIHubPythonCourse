{
 "cells": [
  {
   "cell_type": "code",
   "execution_count": 2,
   "metadata": {},
   "outputs": [
    {
     "name": "stdout",
     "output_type": "stream",
     "text": [
      "Ad - Soyad Giriniz: ALBEK ALTAY\n",
      "Midterm Notu Giriniz: 75\n",
      "Proje Notu giriniz: 87\n",
      "Final Notu Giriniz: 65\n",
      "Ad - Soyad Giriniz: ALBİNA ALTAY\n",
      "Midterm Notu Giriniz: 78\n",
      "Proje Notu giriniz: 95\n",
      "Final Notu Giriniz: 56\n",
      "Ad - Soyad Giriniz: BİLANA ALTAY\n",
      "Midterm Notu Giriniz: 45\n",
      "Proje Notu giriniz: 85\n",
      "Final Notu Giriniz: 96\n",
      "Ad - Soyad Giriniz: JANSET ALTAY\n",
      "Midterm Notu Giriniz: 78\n",
      "Proje Notu giriniz: 65\n",
      "Final Notu Giriniz: 98\n",
      "Ad - Soyad Giriniz: BARİNA ALTAY\n",
      "Midterm Notu Giriniz: 78\n",
      "Proje Notu giriniz: 45\n",
      "Final Notu Giriniz: 68\n",
      "Öğrenci ve not bilgileri: {'name_Surname': ['ALBEK ALTAY', 'ALBİNA ALTAY', 'BİLANA ALTAY', 'JANSET ALTAY', 'BARİNA ALTAY'], 'notes': [74, 74, 77, 82, 64]}\n",
      "Notların büyükten küçüğe sıralı hali : [82, 77, 74, 74, 64]\n"
     ]
    }
   ],
   "source": [
    "list1 = [\"name_Surname\",\"notes\"]\n",
    "students= []\n",
    "passingGrades = []\n",
    "count = 0\n",
    "while count<5:\n",
    "    student = input(\"Ad - Soyad Giriniz: \")\n",
    "    midterm = int(input(\"Midterm Notu Giriniz: \"))\n",
    "    project = int(input(\"Proje Notu giriniz: \"))\n",
    "    final = int(input(\"Final Notu Giriniz: \"))\n",
    "    passingGrade = (midterm * (0.30)) + (project * (0.30)) + (final * (0.40))\n",
    "    passingGrade = int(passingGrade)\n",
    "    students.append(student)\n",
    "    passingGrades.append(passingGrade)\n",
    "    count += 1\n",
    "\n",
    "new_list = [students , (passingGrades)]\n",
    "new_dict = dict(list(zip(list1,new_list)))\n",
    "notes = [new_dict[\"notes\"][0],new_dict[\"notes\"][1],new_dict[\"notes\"][2],new_dict[\"notes\"][3],new_dict[\"notes\"][4]]\n",
    "print(f\"Öğrenci ve not bilgileri: {new_dict}\")\n",
    "notes.sort()\n",
    "notes.reverse()\n",
    "print(f\"Notların büyükten küçüğe sıralı hali : {notes}\")\n",
    "\n"
   ]
  },
  {
   "cell_type": "code",
   "execution_count": null,
   "metadata": {},
   "outputs": [],
   "source": []
  }
 ],
 "metadata": {
  "kernelspec": {
   "display_name": "Python 3",
   "language": "python",
   "name": "python3"
  },
  "language_info": {
   "codemirror_mode": {
    "name": "ipython",
    "version": 3
   },
   "file_extension": ".py",
   "mimetype": "text/x-python",
   "name": "python",
   "nbconvert_exporter": "python",
   "pygments_lexer": "ipython3",
   "version": "3.8.5"
  }
 },
 "nbformat": 4,
 "nbformat_minor": 4
}
