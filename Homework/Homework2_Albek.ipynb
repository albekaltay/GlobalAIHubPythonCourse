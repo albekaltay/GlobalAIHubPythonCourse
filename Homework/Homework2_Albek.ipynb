{
 "cells": [
  {
   "cell_type": "code",
   "execution_count": 14,
   "metadata": {},
   "outputs": [
    {
     "name": "stdout",
     "output_type": "stream",
     "text": [
      "cv 1 : Albek Altay - 24 - Yönetim Bilişim Sistemler \n",
      "cv 2 : Irem Dilek Topuz - 22 - Yönetim Bİlişim Sistemleri \n",
      "cv 3 : Ozan Ekşi - 22 - Bankacılık ve Finans \n",
      "cv 4 : Can Günçer - 20 - Bilgisayar Mühendisliği \n",
      "cv 5 : Anıl Burak Karadede - 23 - Yapay Zeka Mühendisliği \n"
     ]
    }
   ],
   "source": [
    "albek_cv = {\"name\": \"Albek\",\n",
    "            \"surname\": \"Altay\",\n",
    "            \"age\": 24,\n",
    "            \"department\": \"Yönetim Bilişim Sistemler\"}\n",
    "\n",
    "irem_cv = {\"name\": \"Irem Dilek\",\n",
    "           \"surname\": \"Topuz\",\n",
    "           \"age\": 22,\n",
    "           \"department\": \"Yönetim Bİlişim Sistemleri\"}\n",
    "ozan_cv = {\"name\": \"Ozan\",\n",
    "           \"surname\": \"Ekşi\",\n",
    "           \"age\": 22,\n",
    "           \"department\": \"Bankacılık ve Finans\"}\n",
    "\n",
    "can_cv = {\"name\": \"Can\",\n",
    "          \"surname\": \"Günçer\",\n",
    "          \"age\": 20,\n",
    "          \"department\": \"Bilgisayar Mühendisliği\"}\n",
    "\n",
    "anıl_cv = {\"name\": \"Anıl Burak\",\n",
    "           \"surname\": \"Karadede\",\n",
    "           \"age\": 23,\n",
    "           \"department\": \"Yapay Zeka Mühendisliği\"}\n",
    "\n",
    "\n",
    "new =[]\n",
    "for i in albek_cv, irem_cv, ozan_cv, can_cv, anıl_cv:\n",
    "    new.append(i)\n",
    "\n",
    "\n",
    "cv_number = 1\n",
    "while cv_number<6:\n",
    "    for a in new:\n",
    "        print(f\"cv {cv_number} : {a['name']} {a['surname']} - {a['age']} - {a['department']} \")\n",
    "        cv_number += 1\n"
   ]
  },
  {
   "cell_type": "code",
   "execution_count": null,
   "metadata": {},
   "outputs": [],
   "source": []
  }
 ],
 "metadata": {
  "kernelspec": {
   "display_name": "Python 3",
   "language": "python",
   "name": "python3"
  },
  "language_info": {
   "codemirror_mode": {
    "name": "ipython",
    "version": 3
   },
   "file_extension": ".py",
   "mimetype": "text/x-python",
   "name": "python",
   "nbconvert_exporter": "python",
   "pygments_lexer": "ipython3",
   "version": "3.8.5"
  }
 },
 "nbformat": 4,
 "nbformat_minor": 4
}
